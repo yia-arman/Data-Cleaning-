{
 "cells": [
  {
   "cell_type": "markdown",
   "id": "befeb932",
   "metadata": {},
   "source": [
    "Step 1: Import the Required Libraries"
   ]
  },
  {
   "cell_type": "code",
   "execution_count": 22,
   "id": "7de9e79d",
   "metadata": {},
   "outputs": [],
   "source": [
    "import pandas as pd\n",
    "import numpy as np"
   ]
  },
  {
   "cell_type": "markdown",
   "id": "41cadcda",
   "metadata": {},
   "source": [
    "Step 2: Load the Dataset"
   ]
  },
  {
   "cell_type": "code",
   "execution_count": 14,
   "id": "b0819695",
   "metadata": {},
   "outputs": [],
   "source": [
    "df = pd.read_csv('sample_data.csv')"
   ]
  },
  {
   "cell_type": "markdown",
   "id": "083d372a",
   "metadata": {},
   "source": [
    "Step 3: Explore the Dataset"
   ]
  },
  {
   "cell_type": "code",
   "execution_count": 19,
   "id": "e44a8efc",
   "metadata": {},
   "outputs": [
    {
     "data": {
      "text/html": [
       "<div>\n",
       "<style scoped>\n",
       "    .dataframe tbody tr th:only-of-type {\n",
       "        vertical-align: middle;\n",
       "    }\n",
       "\n",
       "    .dataframe tbody tr th {\n",
       "        vertical-align: top;\n",
       "    }\n",
       "\n",
       "    .dataframe thead th {\n",
       "        text-align: right;\n",
       "    }\n",
       "</style>\n",
       "<table border=\"1\" class=\"dataframe\">\n",
       "  <thead>\n",
       "    <tr style=\"text-align: right;\">\n",
       "      <th></th>\n",
       "      <th>Employee_ID</th>\n",
       "      <th>Name</th>\n",
       "      <th>Age</th>\n",
       "      <th>Salary</th>\n",
       "      <th>Department</th>\n",
       "    </tr>\n",
       "  </thead>\n",
       "  <tbody>\n",
       "    <tr>\n",
       "      <th>0</th>\n",
       "      <td>1</td>\n",
       "      <td>John Smith</td>\n",
       "      <td>32.0</td>\n",
       "      <td>5000.0</td>\n",
       "      <td>HR</td>\n",
       "    </tr>\n",
       "    <tr>\n",
       "      <th>1</th>\n",
       "      <td>2</td>\n",
       "      <td>Jane Doe</td>\n",
       "      <td>28.0</td>\n",
       "      <td>5250.0</td>\n",
       "      <td>Marketing</td>\n",
       "    </tr>\n",
       "    <tr>\n",
       "      <th>2</th>\n",
       "      <td>3</td>\n",
       "      <td>Michael Johnson</td>\n",
       "      <td>35.0</td>\n",
       "      <td>5500.0</td>\n",
       "      <td>IT</td>\n",
       "    </tr>\n",
       "    <tr>\n",
       "      <th>4</th>\n",
       "      <td>5</td>\n",
       "      <td>David Lee</td>\n",
       "      <td>40.0</td>\n",
       "      <td>6000.0</td>\n",
       "      <td>IT</td>\n",
       "    </tr>\n",
       "  </tbody>\n",
       "</table>\n",
       "</div>"
      ],
      "text/plain": [
       "   Employee_ID             Name   Age  Salary Department\n",
       "0            1       John Smith  32.0  5000.0         HR\n",
       "1            2         Jane Doe  28.0  5250.0  Marketing\n",
       "2            3  Michael Johnson  35.0  5500.0         IT\n",
       "4            5        David Lee  40.0  6000.0         IT"
      ]
     },
     "execution_count": 19,
     "metadata": {},
     "output_type": "execute_result"
    }
   ],
   "source": [
    "df.head()\n",
    "# df.shape\n",
    "# df.dtypes"
   ]
  },
  {
   "cell_type": "markdown",
   "id": "c7097f8b",
   "metadata": {},
   "source": [
    "Step 4: Handle Missing Data"
   ]
  },
  {
   "cell_type": "code",
   "execution_count": 18,
   "id": "fd56990b",
   "metadata": {},
   "outputs": [],
   "source": [
    "df.isnull().sum()\n",
    "#df['Salary'] = df.Salary.fillna(df.Salary.mean())\n",
    "df = df.dropna()"
   ]
  },
  {
   "cell_type": "markdown",
   "id": "4d5ff18b",
   "metadata": {},
   "source": [
    "Step 5: Handle Duplicate Data"
   ]
  },
  {
   "cell_type": "code",
   "execution_count": 20,
   "id": "86a6e4fa",
   "metadata": {},
   "outputs": [
    {
     "data": {
      "text/plain": [
       "0"
      ]
     },
     "execution_count": 20,
     "metadata": {},
     "output_type": "execute_result"
    }
   ],
   "source": [
    "df.duplicated().sum()\n",
    "\n",
    "#df = df.drop_duplicates()"
   ]
  },
  {
   "cell_type": "markdown",
   "id": "82dcc9f3",
   "metadata": {},
   "source": [
    "Step 6: Handle Outliers"
   ]
  },
  {
   "cell_type": "code",
   "execution_count": 25,
   "id": "7c1d3f27",
   "metadata": {},
   "outputs": [
    {
     "data": {
      "text/html": [
       "<div>\n",
       "<style scoped>\n",
       "    .dataframe tbody tr th:only-of-type {\n",
       "        vertical-align: middle;\n",
       "    }\n",
       "\n",
       "    .dataframe tbody tr th {\n",
       "        vertical-align: top;\n",
       "    }\n",
       "\n",
       "    .dataframe thead th {\n",
       "        text-align: right;\n",
       "    }\n",
       "</style>\n",
       "<table border=\"1\" class=\"dataframe\">\n",
       "  <thead>\n",
       "    <tr style=\"text-align: right;\">\n",
       "      <th></th>\n",
       "      <th>Employee_ID</th>\n",
       "      <th>Name</th>\n",
       "      <th>Age</th>\n",
       "      <th>Salary</th>\n",
       "      <th>Department</th>\n",
       "      <th>Outlier</th>\n",
       "    </tr>\n",
       "  </thead>\n",
       "  <tbody>\n",
       "    <tr>\n",
       "      <th>0</th>\n",
       "      <td>1</td>\n",
       "      <td>John Smith</td>\n",
       "      <td>32.0</td>\n",
       "      <td>5000.0</td>\n",
       "      <td>HR</td>\n",
       "      <td>False</td>\n",
       "    </tr>\n",
       "    <tr>\n",
       "      <th>1</th>\n",
       "      <td>2</td>\n",
       "      <td>Jane Doe</td>\n",
       "      <td>28.0</td>\n",
       "      <td>5250.0</td>\n",
       "      <td>Marketing</td>\n",
       "      <td>False</td>\n",
       "    </tr>\n",
       "    <tr>\n",
       "      <th>2</th>\n",
       "      <td>3</td>\n",
       "      <td>Michael Johnson</td>\n",
       "      <td>35.0</td>\n",
       "      <td>5500.0</td>\n",
       "      <td>IT</td>\n",
       "      <td>False</td>\n",
       "    </tr>\n",
       "    <tr>\n",
       "      <th>4</th>\n",
       "      <td>5</td>\n",
       "      <td>David Lee</td>\n",
       "      <td>40.0</td>\n",
       "      <td>6000.0</td>\n",
       "      <td>IT</td>\n",
       "      <td>False</td>\n",
       "    </tr>\n",
       "  </tbody>\n",
       "</table>\n",
       "</div>"
      ],
      "text/plain": [
       "   Employee_ID             Name   Age  Salary Department  Outlier\n",
       "0            1       John Smith  32.0  5000.0         HR    False\n",
       "1            2         Jane Doe  28.0  5250.0  Marketing    False\n",
       "2            3  Michael Johnson  35.0  5500.0         IT    False\n",
       "4            5        David Lee  40.0  6000.0         IT    False"
      ]
     },
     "execution_count": 25,
     "metadata": {},
     "output_type": "execute_result"
    }
   ],
   "source": [
    "z_scores = np.abs((df.Salary - df.Salary.mean())/df.Salary.std())\n",
    "\n",
    "outlier = df[z_scores > 3]\n",
    "\n",
    "df['Outlier'] = z_scores > 3\n",
    "df"
   ]
  },
  {
   "cell_type": "markdown",
   "id": "75d54de6",
   "metadata": {},
   "source": [
    "Step 7: Data Formatting "
   ]
  },
  {
   "cell_type": "code",
   "execution_count": 26,
   "id": "8ac05f82",
   "metadata": {},
   "outputs": [],
   "source": [
    "df.Age = df.Age.astype(int)"
   ]
  },
  {
   "cell_type": "markdown",
   "id": "50366f5a",
   "metadata": {},
   "source": [
    "Step 8: Data Transformation "
   ]
  },
  {
   "cell_type": "code",
   "execution_count": 27,
   "id": "e627fa79",
   "metadata": {},
   "outputs": [],
   "source": [
    "df['Salary Increase'] = df.Salary * 1.1"
   ]
  },
  {
   "cell_type": "markdown",
   "id": "f1a17453",
   "metadata": {},
   "source": [
    "Step 9: Export the Cleaned Dataset"
   ]
  },
  {
   "cell_type": "code",
   "execution_count": 29,
   "id": "85f3116b",
   "metadata": {},
   "outputs": [],
   "source": [
    "df.to_csv('clea_data.csv')"
   ]
  },
  {
   "cell_type": "code",
   "execution_count": null,
   "id": "cbc1ec78",
   "metadata": {},
   "outputs": [],
   "source": []
  }
 ],
 "metadata": {
  "kernelspec": {
   "display_name": "Python 3 (ipykernel)",
   "language": "python",
   "name": "python3"
  },
  "language_info": {
   "codemirror_mode": {
    "name": "ipython",
    "version": 3
   },
   "file_extension": ".py",
   "mimetype": "text/x-python",
   "name": "python",
   "nbconvert_exporter": "python",
   "pygments_lexer": "ipython3",
   "version": "3.9.12"
  }
 },
 "nbformat": 4,
 "nbformat_minor": 5
}
